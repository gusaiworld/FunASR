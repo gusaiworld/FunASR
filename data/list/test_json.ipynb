{
 "cells": [
  {
   "metadata": {},
   "cell_type": "code",
   "outputs": [],
   "execution_count": null,
   "source": [
    "from funasr import AutoModel\n",
    "from sencevoice import model_dir\n",
    "\n",
    "model_dir='/data/guyf/.cache/modelscope/hub/iic/SenseVoiceSmall'\n",
    "model = AutoModel(\n",
    "                model=model_dir,\n",
    "            )\n",
    "\n",
    "            rich_dict = {}"
   ],
   "id": "7fc124b4c8920365"
  },
  {
   "metadata": {
    "jupyter": {
     "is_executing": true
    }
   },
   "cell_type": "code",
   "source": [
    "import re\n",
    "dir1=r'D:\\study\\新建文件夹\\text_tra.txt'\n",
    "dir2=r'D:\\study\\新建文件夹\\wav_tra.scp'\n",
    "pattern = r\".+?(?=/n)\"\n",
    "with open(dir1, 'r') as f:\n",
    "    wav_list = f.readlines()\n",
    "    matches = re.findall(pattern, wav_list)\n",
    "    print(matches)"
   ],
   "id": "867d467012beaa9",
   "outputs": [],
   "execution_count": null
  },
  {
   "metadata": {
    "collapsed": true
   },
   "cell_type": "code",
   "outputs": [],
   "execution_count": null,
   "source": [
    "for key in json_dict[\"source\"].keys():\n",
    "    input_wav = json_dict[\"source\"][key][\"source\"]\n",
    "    print(f'input_wav: {input_wav}')\n",
    "    res = model.generate(\n",
    "    input=input_wav,\n",
    "    cache={},\n",
    "    language=\"auto\",  # \"zn\", \"en\", \"yue\", \"ja\", \"ko\", \"nospeech\"\n",
    "    use_itn=True,\n",
    "    )\n",
    "    text = res[0][\"text\"]\n",
    "    pattern = r\"<\\|[^|]+\\|>\"\n",
    "    matches = re.findall(pattern, text)\n",
    "    text_language, emo_target, event_target = matches[:3]"
   ],
   "id": "initial_id"
  }
 ],
 "metadata": {
  "kernelspec": {
   "display_name": "Python 3",
   "language": "python",
   "name": "python3"
  },
  "language_info": {
   "codemirror_mode": {
    "name": "ipython",
    "version": 2
   },
   "file_extension": ".py",
   "mimetype": "text/x-python",
   "name": "python",
   "nbconvert_exporter": "python",
   "pygments_lexer": "ipython2",
   "version": "2.7.6"
  }
 },
 "nbformat": 4,
 "nbformat_minor": 5
}
